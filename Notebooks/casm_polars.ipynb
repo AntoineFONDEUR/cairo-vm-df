{
 "cells": [
  {
   "cell_type": "code",
   "execution_count": 1,
   "metadata": {},
   "outputs": [],
   "source": [
    "from dataclasses import asdict\n",
    "\n",
    "import polars as pl\n",
    "import os\n",
    "from starkware.cairo.lang.cairo_constants import DEFAULT_PRIME\n",
    "from starkware.cairo.lang.compiler.cairo_compile import compile_cairo_files\n",
    "from starkware.cairo.lang.vm.cairo_runner import CairoRunner"
   ]
  },
  {
   "cell_type": "code",
   "execution_count": 2,
   "metadata": {},
   "outputs": [],
   "source": [
    "# %% Initialize runner from a .cairo program\n",
    "PATH_TO_MAIN = \"../cairo0/fibonacci\"\n",
    "MAIN_FILENAME = \"main.cairo\"\n",
    "\n",
    "runner = CairoRunner(\n",
    "    program = compile_cairo_files(\n",
    "        files = [os.path.join(PATH_TO_MAIN,MAIN_FILENAME)],\n",
    "        prime = DEFAULT_PRIME,\n",
    "        cairo_path = [PATH_TO_MAIN]\n",
    "        ),\n",
    "    layout = \"plain\"\n",
    ")\n",
    "\n",
    "runner.initialize_segments()\n",
    "runner.initialize_main_entrypoint()\n",
    "runner.initialize_vm({})\n",
    "\n",
    "runner.run_until_pc(runner.final_pc)\n",
    "runner.end_run()"
   ]
  },
  {
   "cell_type": "code",
   "execution_count": 3,
   "metadata": {},
   "outputs": [],
   "source": [
    "# %% Get memory and trace from runner after relocation\n",
    "runner.relocate()\n",
    "\n",
    "memory = pl.DataFrame(\n",
    "    {\n",
    "        \"address\": runner.relocated_memory.data.keys(),\n",
    "        \"value\": [f\"{v:016x}\" for v in runner.relocated_memory.data.values()],\n",
    "    }\n",
    ")\n",
    "trace = pl.DataFrame([asdict(x) for x in runner.relocated_trace])"
   ]
  },
  {
   "cell_type": "code",
   "execution_count": 4,
   "metadata": {},
   "outputs": [
    {
     "name": "stderr",
     "output_type": "stream",
     "text": [
      "sys:1: MapWithoutReturnDtypeWarning: Calling `map_elements` without specifying `return_dtype` can lead to unpredictable results. Specify `return_dtype` to silence this warning.\n",
      "sys:1: MapWithoutReturnDtypeWarning: Calling `map_elements` without specifying `return_dtype` can lead to unpredictable results. Specify `return_dtype` to silence this warning.\n",
      "/tmp/ipykernel_34711/1148067401.py:22: UserWarning: `to_struct()` should be passed a list of field names to avoid query errors in subsequent operations (e.g. <struct operation> not supported for dtype Unknown)\n",
      "  .with_columns(flags=pl.col(\"flags\").list.to_struct(fields=lambda i: f\"f_{15 - i}\"))\n"
     ]
    }
   ],
   "source": [
    "# %% Instructions table\n",
    "instruction_table = (\n",
    "    pl.concat([trace[\"pc\"], trace[\"pc\"] + 1])\n",
    "    .unique()\n",
    "    .to_frame()\n",
    "    .join(memory, left_on=\"pc\", right_on=\"address\", how=\"left\")\n",
    "    .filter(pl.col(\"value\").str.len_chars() == 16)\n",
    "    .with_columns(\n",
    "        instruction=pl.col(\"value\").str.to_integer(base=16).fill_null(0),\n",
    "        off_dst=pl.col(\"value\").str.slice(12, 4).str.to_integer(base=16).fill_null(0),\n",
    "        off_op0=pl.col(\"value\").str.slice(8, 4).str.to_integer(base=16).fill_null(0),\n",
    "        off_op1=pl.col(\"value\").str.slice(4, 4).str.to_integer(base=16).fill_null(0),\n",
    "        flags=(\n",
    "            pl.col(\"value\")\n",
    "            .str.slice(0, 4)\n",
    "            .str.to_integer(base=16)\n",
    "            .fill_null(0)\n",
    "            .map_elements(lambda x: f\"{x:016b}\")\n",
    "            .map_elements(lambda x: [int(x[:i], 2) for i in range(1, 17)])\n",
    "        ),\n",
    "    )\n",
    "    .with_columns(flags=pl.col(\"flags\").list.to_struct(fields=lambda i: f\"f_{15 - i}\"))\n",
    "    .drop(\"value\")\n",
    ")"
   ]
  },
  {
   "cell_type": "code",
   "execution_count": 5,
   "metadata": {},
   "outputs": [],
   "source": [
    "# %% Decoding assertion\n",
    "constraint = pl.col(\"off_dst\") + 2**16 * pl.col(\"off_op0\") + 2**32 * pl.col(\"off_op1\") + 2**48 * pl.col(\"f_0\") == pl.col(\"instruction\")\n",
    "assert instruction_table.unnest(\"flags\").select(valid=constraint)[\"valid\"].all()"
   ]
  },
  {
   "cell_type": "code",
   "execution_count": 6,
   "metadata": {},
   "outputs": [],
   "source": [
    "# %% Flags assertion\n",
    "diff = (-2 * pl.col(\"value\") + pl.col(\"value\").shift(-1)).fill_null(0)\n",
    "last_flag = pl.Series(range(len(instruction_table) * 16)) % 16\n",
    "constraint = diff * (diff - 1) * ~(last_flag == 15) == 0\n",
    "\n",
    "assert (\n",
    "    instruction_table[\"flags\"]\n",
    "    .struct.unnest()\n",
    "    .transpose()\n",
    "    .unpivot()\n",
    "    .select(valid=constraint)[\"valid\"]\n",
    "    .all()\n",
    ")"
   ]
  },
  {
   "cell_type": "code",
   "execution_count": null,
   "metadata": {},
   "outputs": [],
   "source": []
  }
 ],
 "metadata": {
  "kernelspec": {
   "display_name": ".venv",
   "language": "python",
   "name": "python3"
  },
  "language_info": {
   "codemirror_mode": {
    "name": "ipython",
    "version": 3
   },
   "file_extension": ".py",
   "mimetype": "text/x-python",
   "name": "python",
   "nbconvert_exporter": "python",
   "pygments_lexer": "ipython3",
   "version": "3.9.21"
  }
 },
 "nbformat": 4,
 "nbformat_minor": 2
}
